{
 "cells": [
  {
   "cell_type": "markdown",
   "id": "9b55aacd",
   "metadata": {},
   "source": [
    "# Import Library\n"
   ]
  },
  {
   "cell_type": "code",
   "execution_count": 1,
   "id": "9145710d",
   "metadata": {},
   "outputs": [],
   "source": [
    "import pandas as pd\n",
    "import matplotlib.pyplot as plt\n",
    "%matplotlib inline\n",
    "import seaborn as sns\n",
    "\n",
    "import warnings\n",
    "warnings.filterwarnings('ignore')\n",
    "\n",
    "from sklearn.neighbors import KNeighborsClassifier\n",
    "from sklearn.preprocessing import MinMaxScaler, StandardScaler, RobustScaler\n",
    "from sklearn.model_selection import train_test_split\n",
    "from sklearn.metrics import ConfusionMatrixDisplay, classification_report, accuracy_score, confusion_matrix"
   ]
  },
  {
   "cell_type": "markdown",
   "id": "450d88c6",
   "metadata": {},
   "source": [
    "# Describing Data"
   ]
  },
  {
   "cell_type": "code",
   "execution_count": 2,
   "id": "df1d0cae",
   "metadata": {},
   "outputs": [
    {
     "data": {
      "text/html": [
       "<div>\n",
       "<style scoped>\n",
       "    .dataframe tbody tr th:only-of-type {\n",
       "        vertical-align: middle;\n",
       "    }\n",
       "\n",
       "    .dataframe tbody tr th {\n",
       "        vertical-align: top;\n",
       "    }\n",
       "\n",
       "    .dataframe thead th {\n",
       "        text-align: right;\n",
       "    }\n",
       "</style>\n",
       "<table border=\"1\" class=\"dataframe\">\n",
       "  <thead>\n",
       "    <tr style=\"text-align: right;\">\n",
       "      <th></th>\n",
       "      <th>label</th>\n",
       "      <th>ZCR</th>\n",
       "      <th>SC</th>\n",
       "      <th>RMSE</th>\n",
       "      <th>Chroma</th>\n",
       "      <th>Spectogram</th>\n",
       "    </tr>\n",
       "  </thead>\n",
       "  <tbody>\n",
       "    <tr>\n",
       "      <th>0</th>\n",
       "      <td>0</td>\n",
       "      <td>0.064941</td>\n",
       "      <td>1578.844104</td>\n",
       "      <td>0.000266</td>\n",
       "      <td>0.908799</td>\n",
       "      <td>1.485587e-07</td>\n",
       "    </tr>\n",
       "    <tr>\n",
       "      <th>1</th>\n",
       "      <td>0</td>\n",
       "      <td>0.265137</td>\n",
       "      <td>5583.063834</td>\n",
       "      <td>0.024851</td>\n",
       "      <td>0.313661</td>\n",
       "      <td>1.469090e-02</td>\n",
       "    </tr>\n",
       "    <tr>\n",
       "      <th>2</th>\n",
       "      <td>0</td>\n",
       "      <td>0.017578</td>\n",
       "      <td>920.735578</td>\n",
       "      <td>0.040653</td>\n",
       "      <td>0.082109</td>\n",
       "      <td>2.302445e-01</td>\n",
       "    </tr>\n",
       "    <tr>\n",
       "      <th>3</th>\n",
       "      <td>0</td>\n",
       "      <td>0.017090</td>\n",
       "      <td>1247.986720</td>\n",
       "      <td>0.038109</td>\n",
       "      <td>0.678591</td>\n",
       "      <td>2.693205e-02</td>\n",
       "    </tr>\n",
       "    <tr>\n",
       "      <th>4</th>\n",
       "      <td>0</td>\n",
       "      <td>0.141113</td>\n",
       "      <td>4650.260829</td>\n",
       "      <td>0.014678</td>\n",
       "      <td>0.797511</td>\n",
       "      <td>5.623207e-04</td>\n",
       "    </tr>\n",
       "  </tbody>\n",
       "</table>\n",
       "</div>"
      ],
      "text/plain": [
       "   label       ZCR           SC      RMSE    Chroma    Spectogram\n",
       "0      0  0.064941  1578.844104  0.000266  0.908799  1.485587e-07\n",
       "1      0  0.265137  5583.063834  0.024851  0.313661  1.469090e-02\n",
       "2      0  0.017578   920.735578  0.040653  0.082109  2.302445e-01\n",
       "3      0  0.017090  1247.986720  0.038109  0.678591  2.693205e-02\n",
       "4      0  0.141113  4650.260829  0.014678  0.797511  5.623207e-04"
      ]
     },
     "execution_count": 2,
     "metadata": {},
     "output_type": "execute_result"
    }
   ],
   "source": [
    "df = pd.read_csv('df_final.csv')\n",
    "df.head()"
   ]
  },
  {
   "cell_type": "code",
   "execution_count": 3,
   "id": "a32eb63e",
   "metadata": {},
   "outputs": [
    {
     "data": {
      "text/plain": [
       "(606, 6)"
      ]
     },
     "execution_count": 3,
     "metadata": {},
     "output_type": "execute_result"
    }
   ],
   "source": [
    "df.shape"
   ]
  },
  {
   "cell_type": "code",
   "execution_count": 4,
   "id": "a13a933f",
   "metadata": {},
   "outputs": [
    {
     "data": {
      "text/plain": [
       "3    210\n",
       "0    166\n",
       "1    133\n",
       "2     97\n",
       "Name: label, dtype: int64"
      ]
     },
     "execution_count": 4,
     "metadata": {},
     "output_type": "execute_result"
    }
   ],
   "source": [
    "df['label'].value_counts()"
   ]
  },
  {
   "cell_type": "code",
   "execution_count": 5,
   "id": "35722265",
   "metadata": {},
   "outputs": [
    {
     "data": {
      "text/html": [
       "<div>\n",
       "<style scoped>\n",
       "    .dataframe tbody tr th:only-of-type {\n",
       "        vertical-align: middle;\n",
       "    }\n",
       "\n",
       "    .dataframe tbody tr th {\n",
       "        vertical-align: top;\n",
       "    }\n",
       "\n",
       "    .dataframe thead th {\n",
       "        text-align: right;\n",
       "    }\n",
       "</style>\n",
       "<table border=\"1\" class=\"dataframe\">\n",
       "  <thead>\n",
       "    <tr style=\"text-align: right;\">\n",
       "      <th></th>\n",
       "      <th>label</th>\n",
       "      <th>ZCR</th>\n",
       "      <th>SC</th>\n",
       "      <th>RMSE</th>\n",
       "      <th>Chroma</th>\n",
       "      <th>Spectogram</th>\n",
       "    </tr>\n",
       "  </thead>\n",
       "  <tbody>\n",
       "    <tr>\n",
       "      <th>count</th>\n",
       "      <td>606.000000</td>\n",
       "      <td>606.000000</td>\n",
       "      <td>606.000000</td>\n",
       "      <td>606.000000</td>\n",
       "      <td>606.000000</td>\n",
       "      <td>606.000000</td>\n",
       "    </tr>\n",
       "    <tr>\n",
       "      <th>mean</th>\n",
       "      <td>1.579208</td>\n",
       "      <td>0.043476</td>\n",
       "      <td>1787.865012</td>\n",
       "      <td>0.048847</td>\n",
       "      <td>0.374684</td>\n",
       "      <td>2.118125</td>\n",
       "    </tr>\n",
       "    <tr>\n",
       "      <th>std</th>\n",
       "      <td>1.219469</td>\n",
       "      <td>0.039920</td>\n",
       "      <td>881.919650</td>\n",
       "      <td>0.058893</td>\n",
       "      <td>0.315918</td>\n",
       "      <td>32.041066</td>\n",
       "    </tr>\n",
       "    <tr>\n",
       "      <th>min</th>\n",
       "      <td>0.000000</td>\n",
       "      <td>0.000000</td>\n",
       "      <td>0.000000</td>\n",
       "      <td>0.000000</td>\n",
       "      <td>0.000000</td>\n",
       "      <td>0.000000</td>\n",
       "    </tr>\n",
       "    <tr>\n",
       "      <th>25%</th>\n",
       "      <td>0.000000</td>\n",
       "      <td>0.023560</td>\n",
       "      <td>1294.490081</td>\n",
       "      <td>0.012330</td>\n",
       "      <td>0.103471</td>\n",
       "      <td>0.003175</td>\n",
       "    </tr>\n",
       "    <tr>\n",
       "      <th>50%</th>\n",
       "      <td>2.000000</td>\n",
       "      <td>0.033203</td>\n",
       "      <td>1622.777201</td>\n",
       "      <td>0.028819</td>\n",
       "      <td>0.285714</td>\n",
       "      <td>0.017022</td>\n",
       "    </tr>\n",
       "    <tr>\n",
       "      <th>75%</th>\n",
       "      <td>3.000000</td>\n",
       "      <td>0.049316</td>\n",
       "      <td>2005.960839</td>\n",
       "      <td>0.061624</td>\n",
       "      <td>0.573026</td>\n",
       "      <td>0.089709</td>\n",
       "    </tr>\n",
       "    <tr>\n",
       "      <th>max</th>\n",
       "      <td>3.000000</td>\n",
       "      <td>0.354980</td>\n",
       "      <td>7414.041580</td>\n",
       "      <td>0.424388</td>\n",
       "      <td>1.000000</td>\n",
       "      <td>736.865300</td>\n",
       "    </tr>\n",
       "  </tbody>\n",
       "</table>\n",
       "</div>"
      ],
      "text/plain": [
       "            label         ZCR           SC        RMSE      Chroma  Spectogram\n",
       "count  606.000000  606.000000   606.000000  606.000000  606.000000  606.000000\n",
       "mean     1.579208    0.043476  1787.865012    0.048847    0.374684    2.118125\n",
       "std      1.219469    0.039920   881.919650    0.058893    0.315918   32.041066\n",
       "min      0.000000    0.000000     0.000000    0.000000    0.000000    0.000000\n",
       "25%      0.000000    0.023560  1294.490081    0.012330    0.103471    0.003175\n",
       "50%      2.000000    0.033203  1622.777201    0.028819    0.285714    0.017022\n",
       "75%      3.000000    0.049316  2005.960839    0.061624    0.573026    0.089709\n",
       "max      3.000000    0.354980  7414.041580    0.424388    1.000000  736.865300"
      ]
     },
     "execution_count": 5,
     "metadata": {},
     "output_type": "execute_result"
    }
   ],
   "source": [
    "df.describe()"
   ]
  },
  {
   "cell_type": "code",
   "execution_count": 6,
   "id": "dd71123e",
   "metadata": {},
   "outputs": [
    {
     "data": {
      "image/png": "[encoded data removed]",
      "text/plain": [
       "<Figure size 1440x504 with 2 Axes>"
      ]
     },
     "metadata": {
      "needs_background": "light"
     },
     "output_type": "display_data"
    }
   ],
   "source": [
    "plt.figure(figsize=(20,7))\n",
    "sns.heatmap(df.corr(), annot=True)\n",
    "plt.show()"
   ]
  },
  {
   "cell_type": "markdown",
   "id": "fbaed382",
   "metadata": {},
   "source": [
    "# Cleansing Data"
   ]
  },
  {
   "cell_type": "code",
   "execution_count": 7,
   "id": "fcca86b6",
   "metadata": {},
   "outputs": [
    {
     "data": {
      "text/plain": [
       "2"
      ]
     },
     "execution_count": 7,
     "metadata": {},
     "output_type": "execute_result"
    }
   ],
   "source": [
    "df.duplicated().sum()"
   ]
  },
  {
   "cell_type": "code",
   "execution_count": 8,
   "id": "399983f7",
   "metadata": {},
   "outputs": [
    {
     "data": {
      "text/plain": [
       "label         0\n",
       "ZCR           0\n",
       "SC            0\n",
       "RMSE          0\n",
       "Chroma        0\n",
       "Spectogram    0\n",
       "dtype: int64"
      ]
     },
     "execution_count": 8,
     "metadata": {},
     "output_type": "execute_result"
    }
   ],
   "source": [
    "df.isnull().sum()"
   ]
  },
  {
   "cell_type": "code",
   "execution_count": 9,
   "id": "f2125664",
   "metadata": {},
   "outputs": [],
   "source": [
    "df.dropna(thresh=4, inplace=True)\n",
    "df.fillna(method='ffill', inplace=True)\n",
    "df.drop_duplicates(inplace=True)"
   ]
  },
  {
   "cell_type": "code",
   "execution_count": 10,
   "id": "233f57a0",
   "metadata": {},
   "outputs": [
    {
     "data": {
      "image/png": "[encoded data removed]",
      "text/plain": [
       "<Figure size 720x432 with 2 Axes>"
      ]
     },
     "metadata": {
      "needs_background": "light"
     },
     "output_type": "display_data"
    }
   ],
   "source": [
    "plt.figure(figsize=(10,6))\n",
    "sns.heatmap(df.isnull())\n",
    "plt.show()"
   ]
  },
  {
   "cell_type": "markdown",
   "id": "d850b097",
   "metadata": {},
   "source": [
    "# Modelling"
   ]
  },
  {
   "cell_type": "code",
   "execution_count": 11,
   "id": "bf790c2b",
   "metadata": {},
   "outputs": [],
   "source": [
    "df_class_0 = df[df['label']==0]\n",
    "df_class_1 = df[df['label']==1]\n",
    "df_class_2 = df[df['label']==2]\n",
    "df_class_3 = df[df['label']==3]"
   ]
  },
  {
   "cell_type": "code",
   "execution_count": 12,
   "id": "1e5e659e",
   "metadata": {},
   "outputs": [
    {
     "data": {
      "text/plain": [
       "((166, 6), (133, 6), (97, 6), (208, 6))"
      ]
     },
     "execution_count": 12,
     "metadata": {},
     "output_type": "execute_result"
    }
   ],
   "source": [
    "df_class_0.shape, df_class_1.shape, df_class_2.shape, df_class_3.shape"
   ]
  },
  {
   "cell_type": "code",
   "execution_count": 13,
   "id": "d8a4bcb3",
   "metadata": {},
   "outputs": [],
   "source": [
    "df_class_0_over = df_class_0.sample(1500, replace=True)\n",
    "df_class_1_over = df_class_1.sample(1500, replace=True)\n",
    "df_class_2_over = df_class_2.sample(1500, replace=True)\n",
    "df_class_3_over = df_class_3.sample(1500, replace=True)"
   ]
  },
  {
   "cell_type": "code",
   "execution_count": 14,
   "id": "4ae56533",
   "metadata": {},
   "outputs": [
    {
     "data": {
      "text/plain": [
       "0    1500\n",
       "1    1500\n",
       "2    1500\n",
       "3    1500\n",
       "Name: label, dtype: int64"
      ]
     },
     "execution_count": 14,
     "metadata": {},
     "output_type": "execute_result"
    }
   ],
   "source": [
    "df_final = pd.concat([df_class_0_over, df_class_1_over, df_class_2_over, df_class_3_over], axis=0)\n",
    "df_final['label'].value_counts()"
   ]
  },
  {
   "cell_type": "code",
   "execution_count": 15,
   "id": "3b04ab5a",
   "metadata": {},
   "outputs": [],
   "source": [
    "datax = df_final.drop(['label'],axis=1)\n",
    "scaler = MinMaxScaler()\n",
    "X = scaler.fit_transform(datax)\n",
    "y = df_final['label']"
   ]
  },
  {
   "cell_type": "code",
   "execution_count": 16,
   "id": "4e13b468",
   "metadata": {},
   "outputs": [
    {
     "data": {
      "text/plain": [
       "((4800, 5), (4800,), (1200, 5), (1200,))"
      ]
     },
     "execution_count": 16,
     "metadata": {},
     "output_type": "execute_result"
    }
   ],
   "source": [
    "X_train, X_test, y_train, y_test= train_test_split(X, y, test_size=0.2, stratify= y, random_state=42)\n",
    "\n",
    "X_train.shape, y_train.shape, X_test.shape, y_test.shape"
   ]
  },
  {
   "cell_type": "code",
   "execution_count": 17,
   "id": "b222c9ca",
   "metadata": {},
   "outputs": [
    {
     "data": {
      "text/plain": [
       "KNeighborsClassifier()"
      ]
     },
     "execution_count": 17,
     "metadata": {},
     "output_type": "execute_result"
    }
   ],
   "source": [
    "\n",
    "model = KNeighborsClassifier(n_neighbors=5)\n",
    "model.fit(X_train, y_train)"
   ]
  },
  {
   "cell_type": "code",
   "execution_count": 18,
   "id": "1ba5f6eb",
   "metadata": {},
   "outputs": [],
   "source": [
    "y_pred = model.predict(X_test)"
   ]
  },
  {
   "cell_type": "code",
   "execution_count": 19,
   "id": "c510cdf4",
   "metadata": {},
   "outputs": [
    {
     "name": "stdout",
     "output_type": "stream",
     "text": [
      "              precision    recall  f1-score   support\n",
      "\n",
      "           0       0.98      1.00      0.99       300\n",
      "           1       0.97      0.98      0.98       300\n",
      "           2       0.98      0.98      0.98       300\n",
      "           3       1.00      0.97      0.99       300\n",
      "\n",
      "    accuracy                           0.98      1200\n",
      "   macro avg       0.98      0.98      0.98      1200\n",
      "weighted avg       0.98      0.98      0.98      1200\n",
      "\n"
     ]
    }
   ],
   "source": [
    "print(classification_report(y_test, y_pred))"
   ]
  },
  {
   "cell_type": "code",
   "execution_count": 20,
   "id": "bec22815",
   "metadata": {},
   "outputs": [
    {
     "data": {
      "image/png": "[encoded data removed]",
      "text/plain": [
       "<Figure size 432x288 with 2 Axes>"
      ]
     },
     "metadata": {
      "needs_background": "light"
     },
     "output_type": "display_data"
    }
   ],
   "source": [
    "cm = confusion_matrix(y_test, y_pred, labels=model.classes_)\n",
    "disp = ConfusionMatrixDisplay(confusion_matrix=cm, display_labels=model.classes_)\n",
    "disp.plot()\n",
    "plt.title('Confusion Matrix dengan Model KNN')\n",
    "plt.show()"
   ]
  },
  {
   "cell_type": "code",
   "execution_count": null,
   "id": "58f240fa",
   "metadata": {},
   "outputs": [],
   "source": []
  },
  {
   "cell_type": "code",
   "execution_count": null,
   "id": "299159f7",
   "metadata": {},
   "outputs": [],
   "source": []
  }
 ],
 "metadata": {
  "kernelspec": {
   "display_name": "Python 3 (ipykernel)",
   "language": "python",
   "name": "python3"
  },
  "language_info": {
   "codemirror_mode": {
    "name": "ipython",
    "version": 3
   },
   "file_extension": ".py",
   "mimetype": "text/x-python",
   "name": "python",
   "nbconvert_exporter": "python",
   "pygments_lexer": "ipython3",
   "version": "3.9.7"
  }
 },
 "nbformat": 4,
 "nbformat_minor": 5
}
